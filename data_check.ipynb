{
 "cells": [
  {
   "cell_type": "code",
   "execution_count": 2,
   "metadata": {},
   "outputs": [],
   "source": [
    "import csv, os\n",
    "import numpy as np\n",
    "import pandas as pa\n",
    "import matplotlib.pyplot as plt"
   ]
  },
  {
   "cell_type": "code",
   "execution_count": 25,
   "metadata": {},
   "outputs": [],
   "source": [
    "path = './data/ea/2018-09-13/cfa4ce54-b79e-11e8-9e52-acbc32956e5b_fitness.txt'"
   ]
  },
  {
   "cell_type": "code",
   "execution_count": 26,
   "metadata": {
    "scrolled": true
   },
   "outputs": [],
   "source": [
    "data = pa.read_csv(path, sep=',', header=None)\n",
    "data.columns = ['id', 'left', 'right', 'scaled_l', 'scaled_r', 'V', 'pleasure', 'pain', 'fitness_t']"
   ]
  },
  {
   "cell_type": "code",
   "execution_count": 27,
   "metadata": {},
   "outputs": [],
   "source": [
    "def plot_stats(data, ylog=False, view=True):\n",
    "    \"\"\" Plots some data \"\"\"\n",
    "    if plt is None:\n",
    "        warnings.warn(\"This display is not available due to a missing optional dependency (matplotlib)\")\n",
    "        return\n",
    "    \n",
    "    plt.figure(figsize=(10,10))\n",
    "\n",
    "    life_spam = range(len(data['id']))\n",
    "    left_wheel = data['left']\n",
    "    right_wheel = data['right']\n",
    "    V = data['V']\n",
    "    pleasure = data['pleasure']\n",
    "    pain = data['pain']\n",
    "    fitness_t = data['fitness_t']\n",
    "\n",
    "    plt.plot(life_spam, left_wheel, 'b-', label=\"Left Wheel\")\n",
    "    # plt.plot(life_spam, right_wheel, 'g-.', label=\"Right Wheel\")\n",
    "    # plt.plot(life_spam, V, 'g', label=\"V center\")\n",
    "    # plt.plot(life_spam, pleasure, 'r', label=\"Pleasure\")\n",
    "    # plt.plot(life_spam, pain, 'b', label=\"Pain\")\n",
    "    # plt.plot(life_spam, fitness_t, 'p-', label=\"fitness_t\")\n",
    "    \n",
    "    plt.title(\"Analysis\")\n",
    "    plt.xlabel(\"LIFE SPAM\")\n",
    "    plt.ylabel(\"Fitness\")\n",
    "    plt.grid()\n",
    "    plt.legend(loc=\"best\")\n",
    "    if ylog:\n",
    "        plt.gca().set_yscale('symlog')\n",
    "\n",
    "    if view:\n",
    "        plt.show()\n",
    "\n",
    "    plt.close()"
   ]
  },
  {
   "cell_type": "code",
   "execution_count": 13,
   "metadata": {},
   "outputs": [],
   "source": [
    "path = './data/ea/2018-12-01/ea_statistics_dummy.txt'"
   ]
  },
  {
   "cell_type": "code",
   "execution_count": 14,
   "metadata": {},
   "outputs": [],
   "source": [
    "data = pa.read_csv(path, delim_whitespace=True, header=0)"
   ]
  },
  {
   "cell_type": "code",
   "execution_count": 15,
   "metadata": {},
   "outputs": [],
   "source": [
    "from eaplots import plot_single_run"
   ]
  },
  {
   "cell_type": "code",
   "execution_count": 17,
   "metadata": {},
   "outputs": [],
   "source": [
    "# plot_single_run(data['gen'], data['min'], data['avg'], data['max'], ratio=0.35, save='./data/ea/2018-12-01/ea_plot.png')"
   ]
  },
  {
   "cell_type": "code",
   "execution_count": null,
   "metadata": {},
   "outputs": [],
   "source": []
  }
 ],
 "metadata": {
  "kernelspec": {
   "display_name": "Python 3",
   "language": "python",
   "name": "python3"
  },
  "language_info": {
   "codemirror_mode": {
    "name": "ipython",
    "version": 3
   },
   "file_extension": ".py",
   "mimetype": "text/x-python",
   "name": "python",
   "nbconvert_exporter": "python",
   "pygments_lexer": "ipython3",
   "version": "3.7.0"
  }
 },
 "nbformat": 4,
 "nbformat_minor": 2
}
